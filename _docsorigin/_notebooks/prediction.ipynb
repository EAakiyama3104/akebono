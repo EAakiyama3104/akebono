{
 "cells": [
  {
   "cell_type": "code",
   "execution_count": 1,
   "metadata": {},
   "outputs": [],
   "source": [
    "# パッケージの読み込み\n",
    "import os\n",
    "os.environ['AKEBONO_DEBUG'] = 'true'\n",
    "\n",
    "from akebono.dataset import get_dataset\n",
    "from akebono.model.loader import get_trained_model\n",
    "from akebono.preprocessor import get_preprocessor_for_prediction\n",
    "\n",
    "import config\n",
    "import akebono.settings as asettings"
   ]
  },
  {
   "cell_type": "code",
   "execution_count": 2,
   "metadata": {},
   "outputs": [],
   "source": [
    "# 設定の適用\n",
    "asettings.apply(config)"
   ]
  },
  {
   "cell_type": "code",
   "execution_count": 3,
   "metadata": {},
   "outputs": [
    {
     "data": {
      "text/plain": [
       "[{'dataset_config': {'dataset_loading_cache_enabled': True,\n",
       "   'loader_config': {'name': 'iris'}},\n",
       "  'dump_result_enabled': True,\n",
       "  'evaluate_enabled': True,\n",
       "  'fit_model_enabled': True,\n",
       "  'model_config': {'evaluate_kwargs': {'cross_val_iterator': 'KFold@sklearn.model_selection',\n",
       "    'cross_val_iterator_kwargs': {'n_splits': 10,\n",
       "     'random_state': 0,\n",
       "     'shuffle': True}},\n",
       "   'model_type': 'multiple_classifier',\n",
       "   'name': 'SklearnLogisticRegression'},\n",
       "  'preprocessor_config': {'name': 'apply_standard_scaler'}},\n",
       " {'dataset_config': {'dataset_loading_cache_enabled': True,\n",
       "   'loader_config': {'name': 'iris'}},\n",
       "  'dump_result_enabled': True,\n",
       "  'evaluate_enabled': True,\n",
       "  'fit_model_enabled': True,\n",
       "  'model_config': {'evaluate_kwargs': {'cross_val_iterator': 'KFold@sklearn.model_selection',\n",
       "    'cross_val_iterator_kwargs': {'n_splits': 10,\n",
       "     'random_state': 0,\n",
       "     'shuffle': True}},\n",
       "   'model_type': 'multiple_classifier',\n",
       "   'name': 'SklearnLogisticRegression'}}]"
      ]
     },
     "execution_count": 3,
     "metadata": {},
     "output_type": "execute_result"
    }
   ],
   "source": [
    "# train_configの確認\n",
    "config.train_config"
   ]
  },
  {
   "cell_type": "code",
   "execution_count": 4,
   "metadata": {},
   "outputs": [
    {
     "name": "stdout",
     "output_type": "stream",
     "text": [
      "[INFO] 2019-05-01 06:00:18,647 ===== train start .. config: config ===== akebono.commands.models.train\n",
      "[INFO] 2019-05-01 06:00:18,647 training .. id: 0 akebono.commands.models.train\n",
      "[DEBUG] 2019-05-01 06:00:18,659 sklearn load_iris loader invoked. akebono.dataset.generator.sklearn\n",
      "[DEBUG] 2019-05-01 06:00:18,662 dataset_loading_cache enabled .. None_e3b0c44298fc1c149afbf4c8_055aa78309b36ea9aeaf1e89_e3b0c44298fc1c149afbf4c8 set done. akebono.dataset.entry\n",
      "[DEBUG] 2019-05-01 06:00:18,662 load dataset start. akebono.operator\n",
      "[DEBUG] 2019-05-01 06:00:18,663 load dataset done. akebono.operator\n",
      "[DEBUG] 2019-05-01 06:00:18,664 model_cls_str: LogisticRegression .. created. akebono.model._models.sklearn\n",
      "[DEBUG] 2019-05-01 06:00:18,664 get_model done in train mode. akebono.model.entry\n",
      "[DEBUG] 2019-05-01 06:00:18,664 evaluate start. akebono.operator\n",
      "[DEBUG] 2019-05-01 06:00:18,665 processing .. operation_mode: train akebono.preprocessor.pipeline\n",
      "[DEBUG] 2019-05-01 06:00:18,666 ApplyStandardScaler#process invoked akebono.preprocessor.statefulmodels\n",
      "/usr/local/lib/python3.5/dist-packages/sklearn/linear_model/logistic.py:432: FutureWarning: Default solver will be changed to 'lbfgs' in 0.22. Specify a solver to silence this warning.\n",
      "  FutureWarning)\n",
      "/usr/local/lib/python3.5/dist-packages/sklearn/linear_model/logistic.py:459: FutureWarning: Default multi_class will be changed to 'auto' in 0.22. Specify the multi_class option to silence this warning.\n",
      "  \"this warning.\", FutureWarning)\n",
      "[DEBUG] 2019-05-01 06:00:18,670 processing .. operation_mode: train akebono.preprocessor.pipeline\n",
      "[DEBUG] 2019-05-01 06:00:18,670 ApplyStandardScaler#process invoked akebono.preprocessor.statefulmodels\n",
      "/usr/local/lib/python3.5/dist-packages/sklearn/linear_model/logistic.py:432: FutureWarning: Default solver will be changed to 'lbfgs' in 0.22. Specify a solver to silence this warning.\n",
      "  FutureWarning)\n",
      "/usr/local/lib/python3.5/dist-packages/sklearn/linear_model/logistic.py:459: FutureWarning: Default multi_class will be changed to 'auto' in 0.22. Specify the multi_class option to silence this warning.\n",
      "  \"this warning.\", FutureWarning)\n",
      "[DEBUG] 2019-05-01 06:00:18,673 processing .. operation_mode: train akebono.preprocessor.pipeline\n",
      "[DEBUG] 2019-05-01 06:00:18,674 ApplyStandardScaler#process invoked akebono.preprocessor.statefulmodels\n",
      "/usr/local/lib/python3.5/dist-packages/sklearn/linear_model/logistic.py:432: FutureWarning: Default solver will be changed to 'lbfgs' in 0.22. Specify a solver to silence this warning.\n",
      "  FutureWarning)\n",
      "/usr/local/lib/python3.5/dist-packages/sklearn/linear_model/logistic.py:459: FutureWarning: Default multi_class will be changed to 'auto' in 0.22. Specify the multi_class option to silence this warning.\n",
      "  \"this warning.\", FutureWarning)\n",
      "[DEBUG] 2019-05-01 06:00:18,677 processing .. operation_mode: train akebono.preprocessor.pipeline\n",
      "[DEBUG] 2019-05-01 06:00:18,677 ApplyStandardScaler#process invoked akebono.preprocessor.statefulmodels\n",
      "/usr/local/lib/python3.5/dist-packages/sklearn/linear_model/logistic.py:432: FutureWarning: Default solver will be changed to 'lbfgs' in 0.22. Specify a solver to silence this warning.\n",
      "  FutureWarning)\n",
      "/usr/local/lib/python3.5/dist-packages/sklearn/linear_model/logistic.py:459: FutureWarning: Default multi_class will be changed to 'auto' in 0.22. Specify the multi_class option to silence this warning.\n",
      "  \"this warning.\", FutureWarning)\n",
      "[DEBUG] 2019-05-01 06:00:18,680 processing .. operation_mode: train akebono.preprocessor.pipeline\n",
      "[DEBUG] 2019-05-01 06:00:18,680 ApplyStandardScaler#process invoked akebono.preprocessor.statefulmodels\n",
      "/usr/local/lib/python3.5/dist-packages/sklearn/linear_model/logistic.py:432: FutureWarning: Default solver will be changed to 'lbfgs' in 0.22. Specify a solver to silence this warning.\n",
      "  FutureWarning)\n",
      "/usr/local/lib/python3.5/dist-packages/sklearn/linear_model/logistic.py:459: FutureWarning: Default multi_class will be changed to 'auto' in 0.22. Specify the multi_class option to silence this warning.\n",
      "  \"this warning.\", FutureWarning)\n",
      "[DEBUG] 2019-05-01 06:00:18,683 processing .. operation_mode: train akebono.preprocessor.pipeline\n",
      "[DEBUG] 2019-05-01 06:00:18,683 ApplyStandardScaler#process invoked akebono.preprocessor.statefulmodels\n",
      "/usr/local/lib/python3.5/dist-packages/sklearn/linear_model/logistic.py:432: FutureWarning: Default solver will be changed to 'lbfgs' in 0.22. Specify a solver to silence this warning.\n",
      "  FutureWarning)\n",
      "/usr/local/lib/python3.5/dist-packages/sklearn/linear_model/logistic.py:459: FutureWarning: Default multi_class will be changed to 'auto' in 0.22. Specify the multi_class option to silence this warning.\n",
      "  \"this warning.\", FutureWarning)\n",
      "[DEBUG] 2019-05-01 06:00:18,686 processing .. operation_mode: train akebono.preprocessor.pipeline\n",
      "[DEBUG] 2019-05-01 06:00:18,686 ApplyStandardScaler#process invoked akebono.preprocessor.statefulmodels\n",
      "/usr/local/lib/python3.5/dist-packages/sklearn/linear_model/logistic.py:432: FutureWarning: Default solver will be changed to 'lbfgs' in 0.22. Specify a solver to silence this warning.\n",
      "  FutureWarning)\n",
      "/usr/local/lib/python3.5/dist-packages/sklearn/linear_model/logistic.py:459: FutureWarning: Default multi_class will be changed to 'auto' in 0.22. Specify the multi_class option to silence this warning.\n",
      "  \"this warning.\", FutureWarning)\n",
      "[DEBUG] 2019-05-01 06:00:18,689 processing .. operation_mode: train akebono.preprocessor.pipeline\n",
      "[DEBUG] 2019-05-01 06:00:18,689 ApplyStandardScaler#process invoked akebono.preprocessor.statefulmodels\n",
      "/usr/local/lib/python3.5/dist-packages/sklearn/linear_model/logistic.py:432: FutureWarning: Default solver will be changed to 'lbfgs' in 0.22. Specify a solver to silence this warning.\n",
      "  FutureWarning)\n",
      "/usr/local/lib/python3.5/dist-packages/sklearn/linear_model/logistic.py:459: FutureWarning: Default multi_class will be changed to 'auto' in 0.22. Specify the multi_class option to silence this warning.\n",
      "  \"this warning.\", FutureWarning)\n",
      "[DEBUG] 2019-05-01 06:00:18,692 processing .. operation_mode: train akebono.preprocessor.pipeline\n",
      "[DEBUG] 2019-05-01 06:00:18,692 ApplyStandardScaler#process invoked akebono.preprocessor.statefulmodels\n",
      "/usr/local/lib/python3.5/dist-packages/sklearn/linear_model/logistic.py:432: FutureWarning: Default solver will be changed to 'lbfgs' in 0.22. Specify a solver to silence this warning.\n",
      "  FutureWarning)\n",
      "/usr/local/lib/python3.5/dist-packages/sklearn/linear_model/logistic.py:459: FutureWarning: Default multi_class will be changed to 'auto' in 0.22. Specify the multi_class option to silence this warning.\n",
      "  \"this warning.\", FutureWarning)\n",
      "[DEBUG] 2019-05-01 06:00:18,695 processing .. operation_mode: train akebono.preprocessor.pipeline\n",
      "[DEBUG] 2019-05-01 06:00:18,695 ApplyStandardScaler#process invoked akebono.preprocessor.statefulmodels\n",
      "/usr/local/lib/python3.5/dist-packages/sklearn/linear_model/logistic.py:432: FutureWarning: Default solver will be changed to 'lbfgs' in 0.22. Specify a solver to silence this warning.\n",
      "  FutureWarning)\n",
      "/usr/local/lib/python3.5/dist-packages/sklearn/linear_model/logistic.py:459: FutureWarning: Default multi_class will be changed to 'auto' in 0.22. Specify the multi_class option to silence this warning.\n",
      "  \"this warning.\", FutureWarning)\n",
      "[DEBUG] 2019-05-01 06:00:18,715 evaluate done. akebono.operator\n",
      "[DEBUG] 2019-05-01 06:00:18,715 fit start. akebono.operator\n",
      "[DEBUG] 2019-05-01 06:00:18,715 processing .. operation_mode: train akebono.preprocessor.pipeline\n",
      "[DEBUG] 2019-05-01 06:00:18,716 ApplyStandardScaler#process invoked akebono.preprocessor.statefulmodels\n",
      "/usr/local/lib/python3.5/dist-packages/sklearn/linear_model/logistic.py:432: FutureWarning: Default solver will be changed to 'lbfgs' in 0.22. Specify a solver to silence this warning.\n",
      "  FutureWarning)\n",
      "/usr/local/lib/python3.5/dist-packages/sklearn/linear_model/logistic.py:459: FutureWarning: Default multi_class will be changed to 'auto' in 0.22. Specify the multi_class option to silence this warning.\n",
      "  \"this warning.\", FutureWarning)\n",
      "[DEBUG] 2019-05-01 06:00:18,735 fit done. akebono.operator\n",
      "[DEBUG] 2019-05-01 06:00:18,735 dump_train_result start. akebono.operator\n",
      "[DEBUG] 2019-05-01 06:00:18,735 dump_with_operation_rule invoked. akebono.preprocessor.pipeline\n",
      "[DEBUG] 2019-05-01 06:00:18,735 dump_train_result done. akebono.operator\n",
      "[INFO] 2019-05-01 06:00:18,751 training .. id: 1 akebono.commands.models.train\n",
      "[DEBUG] 2019-05-01 06:00:18,752 dataset_loading_cache enabled .. None_e3b0c44298fc1c149afbf4c8_055aa78309b36ea9aeaf1e89_e3b0c44298fc1c149afbf4c8 get done. akebono.dataset.entry\n",
      "[DEBUG] 2019-05-01 06:00:18,752 load dataset start. akebono.operator\n",
      "[DEBUG] 2019-05-01 06:00:18,752 load dataset done. akebono.operator\n",
      "[DEBUG] 2019-05-01 06:00:18,752 model_cls_str: LogisticRegression .. created. akebono.model._models.sklearn\n",
      "[DEBUG] 2019-05-01 06:00:18,752 get_model done in train mode. akebono.model.entry\n",
      "[DEBUG] 2019-05-01 06:00:18,752 evaluate start. akebono.operator\n",
      "[DEBUG] 2019-05-01 06:00:18,753 processing .. operation_mode: train akebono.preprocessor.pipeline\n",
      "[DEBUG] 2019-05-01 06:00:18,753 Identify#process invoked. akebono.preprocessor.statelessmodels\n",
      "/usr/local/lib/python3.5/dist-packages/sklearn/linear_model/logistic.py:432: FutureWarning: Default solver will be changed to 'lbfgs' in 0.22. Specify a solver to silence this warning.\n",
      "  FutureWarning)\n",
      "/usr/local/lib/python3.5/dist-packages/sklearn/linear_model/logistic.py:459: FutureWarning: Default multi_class will be changed to 'auto' in 0.22. Specify the multi_class option to silence this warning.\n",
      "  \"this warning.\", FutureWarning)\n",
      "[DEBUG] 2019-05-01 06:00:18,755 processing .. operation_mode: train akebono.preprocessor.pipeline\n",
      "[DEBUG] 2019-05-01 06:00:18,755 Identify#process invoked. akebono.preprocessor.statelessmodels\n",
      "/usr/local/lib/python3.5/dist-packages/sklearn/linear_model/logistic.py:432: FutureWarning: Default solver will be changed to 'lbfgs' in 0.22. Specify a solver to silence this warning.\n",
      "  FutureWarning)\n",
      "/usr/local/lib/python3.5/dist-packages/sklearn/linear_model/logistic.py:459: FutureWarning: Default multi_class will be changed to 'auto' in 0.22. Specify the multi_class option to silence this warning.\n",
      "  \"this warning.\", FutureWarning)\n",
      "[DEBUG] 2019-05-01 06:00:18,756 processing .. operation_mode: train akebono.preprocessor.pipeline\n",
      "[DEBUG] 2019-05-01 06:00:18,757 Identify#process invoked. akebono.preprocessor.statelessmodels\n",
      "/usr/local/lib/python3.5/dist-packages/sklearn/linear_model/logistic.py:432: FutureWarning: Default solver will be changed to 'lbfgs' in 0.22. Specify a solver to silence this warning.\n",
      "  FutureWarning)\n",
      "/usr/local/lib/python3.5/dist-packages/sklearn/linear_model/logistic.py:459: FutureWarning: Default multi_class will be changed to 'auto' in 0.22. Specify the multi_class option to silence this warning.\n",
      "  \"this warning.\", FutureWarning)\n",
      "[DEBUG] 2019-05-01 06:00:18,758 processing .. operation_mode: train akebono.preprocessor.pipeline\n",
      "[DEBUG] 2019-05-01 06:00:18,758 Identify#process invoked. akebono.preprocessor.statelessmodels\n",
      "/usr/local/lib/python3.5/dist-packages/sklearn/linear_model/logistic.py:432: FutureWarning: Default solver will be changed to 'lbfgs' in 0.22. Specify a solver to silence this warning.\n",
      "  FutureWarning)\n",
      "/usr/local/lib/python3.5/dist-packages/sklearn/linear_model/logistic.py:459: FutureWarning: Default multi_class will be changed to 'auto' in 0.22. Specify the multi_class option to silence this warning.\n",
      "  \"this warning.\", FutureWarning)\n",
      "[DEBUG] 2019-05-01 06:00:18,760 processing .. operation_mode: train akebono.preprocessor.pipeline\n",
      "[DEBUG] 2019-05-01 06:00:18,760 Identify#process invoked. akebono.preprocessor.statelessmodels\n",
      "/usr/local/lib/python3.5/dist-packages/sklearn/linear_model/logistic.py:432: FutureWarning: Default solver will be changed to 'lbfgs' in 0.22. Specify a solver to silence this warning.\n",
      "  FutureWarning)\n",
      "/usr/local/lib/python3.5/dist-packages/sklearn/linear_model/logistic.py:459: FutureWarning: Default multi_class will be changed to 'auto' in 0.22. Specify the multi_class option to silence this warning.\n",
      "  \"this warning.\", FutureWarning)\n",
      "[DEBUG] 2019-05-01 06:00:18,761 processing .. operation_mode: train akebono.preprocessor.pipeline\n",
      "[DEBUG] 2019-05-01 06:00:18,761 Identify#process invoked. akebono.preprocessor.statelessmodels\n",
      "/usr/local/lib/python3.5/dist-packages/sklearn/linear_model/logistic.py:432: FutureWarning: Default solver will be changed to 'lbfgs' in 0.22. Specify a solver to silence this warning.\n",
      "  FutureWarning)\n",
      "/usr/local/lib/python3.5/dist-packages/sklearn/linear_model/logistic.py:459: FutureWarning: Default multi_class will be changed to 'auto' in 0.22. Specify the multi_class option to silence this warning.\n",
      "  \"this warning.\", FutureWarning)\n",
      "[DEBUG] 2019-05-01 06:00:18,763 processing .. operation_mode: train akebono.preprocessor.pipeline\n",
      "[DEBUG] 2019-05-01 06:00:18,763 Identify#process invoked. akebono.preprocessor.statelessmodels\n",
      "/usr/local/lib/python3.5/dist-packages/sklearn/linear_model/logistic.py:432: FutureWarning: Default solver will be changed to 'lbfgs' in 0.22. Specify a solver to silence this warning.\n",
      "  FutureWarning)\n",
      "/usr/local/lib/python3.5/dist-packages/sklearn/linear_model/logistic.py:459: FutureWarning: Default multi_class will be changed to 'auto' in 0.22. Specify the multi_class option to silence this warning.\n",
      "  \"this warning.\", FutureWarning)\n",
      "[DEBUG] 2019-05-01 06:00:18,764 processing .. operation_mode: train akebono.preprocessor.pipeline\n",
      "[DEBUG] 2019-05-01 06:00:18,765 Identify#process invoked. akebono.preprocessor.statelessmodels\n",
      "/usr/local/lib/python3.5/dist-packages/sklearn/linear_model/logistic.py:432: FutureWarning: Default solver will be changed to 'lbfgs' in 0.22. Specify a solver to silence this warning.\n",
      "  FutureWarning)\n",
      "/usr/local/lib/python3.5/dist-packages/sklearn/linear_model/logistic.py:459: FutureWarning: Default multi_class will be changed to 'auto' in 0.22. Specify the multi_class option to silence this warning.\n",
      "  \"this warning.\", FutureWarning)\n",
      "[DEBUG] 2019-05-01 06:00:18,766 processing .. operation_mode: train akebono.preprocessor.pipeline\n",
      "[DEBUG] 2019-05-01 06:00:18,766 Identify#process invoked. akebono.preprocessor.statelessmodels\n"
     ]
    },
    {
     "name": "stdout",
     "output_type": "stream",
     "text": [
      "/usr/local/lib/python3.5/dist-packages/sklearn/linear_model/logistic.py:432: FutureWarning: Default solver will be changed to 'lbfgs' in 0.22. Specify a solver to silence this warning.\n",
      "  FutureWarning)\n",
      "/usr/local/lib/python3.5/dist-packages/sklearn/linear_model/logistic.py:459: FutureWarning: Default multi_class will be changed to 'auto' in 0.22. Specify the multi_class option to silence this warning.\n",
      "  \"this warning.\", FutureWarning)\n",
      "[DEBUG] 2019-05-01 06:00:18,768 processing .. operation_mode: train akebono.preprocessor.pipeline\n",
      "[DEBUG] 2019-05-01 06:00:18,768 Identify#process invoked. akebono.preprocessor.statelessmodels\n",
      "/usr/local/lib/python3.5/dist-packages/sklearn/linear_model/logistic.py:432: FutureWarning: Default solver will be changed to 'lbfgs' in 0.22. Specify a solver to silence this warning.\n",
      "  FutureWarning)\n",
      "/usr/local/lib/python3.5/dist-packages/sklearn/linear_model/logistic.py:459: FutureWarning: Default multi_class will be changed to 'auto' in 0.22. Specify the multi_class option to silence this warning.\n",
      "  \"this warning.\", FutureWarning)\n",
      "[DEBUG] 2019-05-01 06:00:18,786 evaluate done. akebono.operator\n",
      "[DEBUG] 2019-05-01 06:00:18,786 fit start. akebono.operator\n",
      "[DEBUG] 2019-05-01 06:00:18,786 processing .. operation_mode: train akebono.preprocessor.pipeline\n",
      "[DEBUG] 2019-05-01 06:00:18,786 Identify#process invoked. akebono.preprocessor.statelessmodels\n",
      "/usr/local/lib/python3.5/dist-packages/sklearn/linear_model/logistic.py:432: FutureWarning: Default solver will be changed to 'lbfgs' in 0.22. Specify a solver to silence this warning.\n",
      "  FutureWarning)\n",
      "/usr/local/lib/python3.5/dist-packages/sklearn/linear_model/logistic.py:459: FutureWarning: Default multi_class will be changed to 'auto' in 0.22. Specify the multi_class option to silence this warning.\n",
      "  \"this warning.\", FutureWarning)\n",
      "[DEBUG] 2019-05-01 06:00:18,805 fit done. akebono.operator\n",
      "[DEBUG] 2019-05-01 06:00:18,805 dump_train_result start. akebono.operator\n",
      "[DEBUG] 2019-05-01 06:00:18,805 dump_with_operation_rule invoked. akebono.preprocessor.pipeline\n",
      "[DEBUG] 2019-05-01 06:00:18,805 dump_train_result done. akebono.operator\n",
      "[INFO] 2019-05-01 06:00:18,822 ===== train done ===== akebono.commands.models.train\n",
      "[DEBUG] 2019-05-01 06:00:18,822 train normally completed. __main__\n"
     ]
    }
   ],
   "source": [
    "# 訓練の実行\n",
    "!akebono train -t tmp1"
   ]
  },
  {
   "cell_type": "code",
   "execution_count": 5,
   "metadata": {},
   "outputs": [
    {
     "name": "stdout",
     "output_type": "stream",
     "text": [
      "[DEBUG] 2019-05-01 06:00:45,129 sklearn load_iris loader invoked. akebono.dataset.generator.sklearn\n",
      "[DEBUG] 2019-05-01 06:00:45,132 dataset_loading_cache enabled .. None_e3b0c44298fc1c149afbf4c8_055aa78309b36ea9aeaf1e89_e3b0c44298fc1c149afbf4c8 set done. akebono.dataset.entry\n"
     ]
    }
   ],
   "source": [
    "# 予測用データセットのconfig\n",
    "dataset_config = {\n",
    "    'loader_config': {\n",
    "        'name': 'iris',\n",
    "    },\n",
    "    'target_column': None, # 予測の際は、target_columnをNoneにする\n",
    "}\n",
    "dataset = get_dataset(dataset_config)"
   ]
  },
  {
   "cell_type": "code",
   "execution_count": 6,
   "metadata": {},
   "outputs": [
    {
     "name": "stdout",
     "output_type": "stream",
     "text": [
      "[DEBUG] 2019-05-01 06:00:54,146 train_result is None .. load from scenario_tag: tmp1, train_id: 0 akebono.model.loader\n",
      "[DEBUG] 2019-05-01 06:00:54,147 dirpath: _storage/default/operation_results/tmp1 akebono.io.operation.loader\n",
      "[DEBUG] 2019-05-01 06:00:54,149 model_cls_str: LogisticRegression .. created. akebono.model._models.sklearn\n",
      "[DEBUG] 2019-05-01 06:00:54,150 get_model done in predict mode. akebono.model.entry\n",
      "[DEBUG] 2019-05-01 06:00:54,151 train_result is None .. load from scenario_tag: tmp1, train_id: 0 akebono.preprocessor.entry\n",
      "[DEBUG] 2019-05-01 06:00:54,152 dirpath: _storage/default/operation_results/tmp1 akebono.io.operation.loader\n",
      "[DEBUG] 2019-05-01 06:00:54,153 load_with_operation_rule invoked. akebono.preprocessor.pipeline\n"
     ]
    }
   ],
   "source": [
    "# 予測で使うモデルの指定\n",
    "scenario_tag = 'tmp1'\n",
    "train_id = '0'\n",
    "\n",
    "# モデルと、前処理モジュールの読み込み\n",
    "model, model_config = get_trained_model(scenario_tag, train_id)\n",
    "preprocessor = get_preprocessor_for_prediction(scenario_tag, train_id)"
   ]
  },
  {
   "cell_type": "code",
   "execution_count": 7,
   "metadata": {},
   "outputs": [
    {
     "name": "stdout",
     "output_type": "stream",
     "text": [
      "[DEBUG] 2019-05-01 06:01:03,369 processing .. operation_mode: predict akebono.preprocessor.pipeline\n",
      "[DEBUG] 2019-05-01 06:01:03,373 ApplyStandardScaler#process invoked akebono.preprocessor.statefulmodels\n"
     ]
    }
   ],
   "source": [
    "# datasetから予測用した入力を取得し、前処理を実行\n",
    "# fXが前処理後のデータで、モデルへの入力となる\n",
    "X = dataset.get_predictor()\n",
    "fX, _ = preprocessor.process(X, None)"
   ]
  },
  {
   "cell_type": "code",
   "execution_count": 8,
   "metadata": {},
   "outputs": [
    {
     "data": {
      "text/plain": [
       "array([0, 0, 0, 0, 0, 0, 0, 0, 0, 0, 0, 0, 0, 0, 0, 0, 0, 0, 0, 0, 0, 0,\n",
       "       0, 0, 0, 0, 0, 0, 0, 0, 0, 0, 0, 0, 0, 0, 0, 0, 0, 0, 0, 0, 0, 0,\n",
       "       0, 0, 0, 0, 0, 0, 1, 2, 2, 1, 1, 1, 2, 1, 1, 1, 1, 1, 1, 1, 1, 1,\n",
       "       1, 1, 1, 1, 2, 1, 1, 1, 1, 1, 1, 2, 1, 1, 1, 1, 1, 1, 1, 2, 2, 1,\n",
       "       1, 1, 1, 1, 1, 1, 1, 1, 1, 1, 1, 1, 2, 2, 2, 2, 2, 2, 1, 2, 2, 2,\n",
       "       2, 2, 2, 2, 2, 2, 2, 2, 2, 1, 2, 2, 2, 2, 2, 2, 2, 2, 2, 2, 2, 2,\n",
       "       2, 1, 1, 2, 2, 2, 2, 2, 2, 2, 2, 2, 2, 2, 2, 2, 2, 2])"
      ]
     },
     "execution_count": 8,
     "metadata": {},
     "output_type": "execute_result"
    }
   ],
   "source": [
    "# 予測の実行\n",
    "model.predict(fX)"
   ]
  },
  {
   "cell_type": "code",
   "execution_count": null,
   "metadata": {},
   "outputs": [],
   "source": []
  }
 ],
 "metadata": {
  "kernelspec": {
   "display_name": "Python 3",
   "language": "python",
   "name": "python3"
  },
  "language_info": {
   "codemirror_mode": {
    "name": "ipython",
    "version": 3
   },
   "file_extension": ".py",
   "mimetype": "text/x-python",
   "name": "python",
   "nbconvert_exporter": "python",
   "pygments_lexer": "ipython3",
   "version": "3.5.2"
  }
 },
 "nbformat": 4,
 "nbformat_minor": 2
}
